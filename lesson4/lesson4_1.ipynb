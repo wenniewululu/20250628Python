### python 儲存資料
- 變數
- list
- dict
