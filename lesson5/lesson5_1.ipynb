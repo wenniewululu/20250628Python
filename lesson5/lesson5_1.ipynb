{
 "cells": [
  {
   "cell_type": "code",
   "execution_count": 17,
   "id": "a4db578f",
   "metadata": {},
   "outputs": [
    {
     "name": "stdout",
     "output_type": "stream",
     "text": [
      "💬 AI 回應：\n",
      "想像一下 Python 的函式就像 **小工具**，我們在程式裡不斷地使用這些小工具來完成各種任務。\n",
      "\n",
      "**簡單來說：**\n",
      "\n",
      "* **函式是程式碼的片段，可以重複使用，讓程式碼更精準、更易讀。**\n",
      "* **它們可以做很多事情，像是計算、顯示、讀取資料等等。**\n",
      "\n",
      "**以下是一些例子，用更簡單的方式解釋：**\n",
      "\n",
      "* **`print(\"Hello, world!\")`**:  這個函式會**輸出**文字到螢幕。  它就像一個命令，告訴程式要做什麼。\n",
      "* **`x = 10`**:  這個函式會**儲存**一個數字 `10`  到變數 `x`。  你可以想像成把 `10` 寫 somewhere。\n",
      "* **`sum(x, y)`**:  這個函式會**計算**兩個數字的和。  它可以像一個計算器，在計算的時候，會把 `x` 和 `y`  運算在一起。\n",
      "\n",
      "**一個更複雜的例子 (假設我們想在程式裡，每次都顯示 'Hello')：**\n",
      "\n",
      "```python\n",
      "def greet():\n",
      "  print(\"Hello\")\n",
      "\n",
      "greet()  # 這個程式會執行，顯示 \"Hello\"\n",
      "```\n",
      "\n",
      "這個函式 `greet()` 包含一個 `print()`  程式碼，它每次呼叫，都會顯示 \"Hello\"。  `def` 是函式標頭，`def` 是函程式的開始，`return`  是函程式結束，也就是它完成了任務。\n",
      "\n",
      "**總結：**\n",
      "\n",
      "Python 的函式就像小工具，你只需要找到適合的函式，然後使用它來完成特定的任務。  它們可以重複使用，讓程式碼更簡潔、更高效。\n",
      "\n",
      "希望這個解釋能幫助你理解 Python 的函式!\n",
      "\n"
     ]
    }
   ],
   "source": [
    "import requests\n",
    "\n",
    "def chat_with_ollama(prompt: str):\n",
    "    url = \"http://localhost:11434/api/generate\"\n",
    "    payload = {\n",
    "        \"model\": \"gemma3:1b\",\n",
    "        \"prompt\": prompt,\n",
    "        \"stream\": False\n",
    "    }\n",
    "\n",
    "    response = requests.post(url, json=payload)\n",
    "    result = response.json()\n",
    "    print(\"💬 AI 回應：\")\n",
    "    print(result[\"response\"])\n",
    "\n",
    "# 範例輸入\n",
    "chat_with_ollama(\"請用簡單的方式解釋什麼是Python的函式？\")\n",
    "\n"
   ]
  },
  {
   "cell_type": "code",
   "execution_count": 22,
   "id": "cb8672c3",
   "metadata": {},
   "outputs": [
    {
     "name": "stdout",
     "output_type": "stream",
     "text": [
      "💬 AI 回應：\n",
      "{'error': 'model requires more system memory (1.6 GiB) than is available (1.5 GiB)'}\n",
      "No expected key found in response. Available keys: dict_keys(['error'])\n"
     ]
    }
   ],
   "source": [
    "import requests\n",
    "\n",
    "def chat_with_ollama(prompt: str):\n",
    "    url = \"http://localhost:11434/api/generate\"\n",
    "    payload = {\n",
    "        \"model\": \"gemma3:1b\",\n",
    "        \"prompt\": prompt,\n",
    "        \"stream\": False,\n",
    "        \"options\": { #參考說明1\n",
    "            \"temperature\": 0.7,\n",
    "            \"top_p\": 0.9,\n",
    "            \"top_k\": 50,\n",
    "        },\n",
    "        \"max_tokens\": 100,\n",
    "        \"format\": \"json\",\n",
    "    }\n",
    "\n",
    "    response = requests.post(url, json=payload)\n",
    "    result = response.json()\n",
    "    print(\"💬 AI 回應：\")\n",
    "    # Print the whole result for debugging\n",
    "    print(result)\n",
    "    # Try to print the 'response' key if it exists, otherwise print possible keys\n",
    "    if \"response\" in result:\n",
    "        print(result[\"response\"])\n",
    "    elif \"message\" in result:\n",
    "        print(result[\"message\"])\n",
    "    elif \"content\" in result:\n",
    "        print(result[\"content\"])\n",
    "    else:\n",
    "        print(\"No expected key found in response. Available keys:\", result.keys())\n",
    "\n",
    "#範例輸入\n",
    "chat_with_ollama(\"請問你是誰？\")  # Example input"
   ]
  },
  {
   "cell_type": "code",
   "execution_count": 19,
   "id": "c643e532",
   "metadata": {},
   "outputs": [
    {
     "name": "stdout",
     "output_type": "stream",
     "text": [
      "下載成功\n",
      "<!doctype html>\n",
      "<html>\n",
      "<head>\n",
      "    <title>Example Domain</title>\n",
      "\n",
      "    <meta charset=\"utf-8\" />\n",
      "    <meta http-equiv=\"Content-type\" content=\"text/html; charset=utf-8\" />\n",
      "    <meta name=\"viewport\" content=\"width=device-width, initial-scale=1\" />\n",
      "    <style type=\"text/css\">\n",
      "    body {\n",
      "        background-color: #f0f0f2;\n",
      "        margin: 0;\n",
      "        padding: 0;\n",
      "        font-family: -apple-system, system-ui, BlinkMacSystemFont, \"Segoe UI\", \"Open Sans\", \"Helvetica Neue\", Helvetica, Arial, sans-serif;\n",
      "        \n",
      "    }\n",
      "    div {\n",
      "        width: 600px;\n",
      "        margin: 5em auto;\n",
      "        padding: 2em;\n",
      "        background-color: #fdfdff;\n",
      "        border-radius: 0.5em;\n",
      "        box-shadow: 2px 3px 7px 2px rgba(0,0,0,0.02);\n",
      "    }\n",
      "    a:link, a:visited {\n",
      "        color: #38488f;\n",
      "        text-decoration: none;\n",
      "    }\n",
      "    @media (max-width: 700px) {\n",
      "        div {\n",
      "            margin: 0 auto;\n",
      "            width: auto;\n",
      "        }\n",
      "    }\n",
      "    </style>    \n",
      "</head>\n",
      "\n",
      "<body>\n",
      "<div>\n",
      "    <h1>Example Domain</h1>\n",
      "    <p>This domain is for use in illustrative examples in documents. You may use this\n",
      "    domain in literature without prior coordination or asking for permission.</p>\n",
      "    <p><a href=\"https://www.iana.org/domains/example\">More information...</a></p>\n",
      "</div>\n",
      "</body>\n",
      "</html>\n",
      "\n"
     ]
    }
   ],
   "source": [
    "import requests\n",
    "\n",
    "url = \"https://www.example.com\"\n",
    "response = requests.get(url)#引數值的呼叫\n",
    "#type(response)\n",
    "if response.status_code == 200:\n",
    "    print(\"下載成功\")\n",
    "    print(response.text)\n",
    "\n",
    "#requests.get(url=url)#引數名稱的呼叫"
   ]
  },
  {
   "cell_type": "markdown",
   "id": "351d0db1",
   "metadata": {},
   "source": []
  },
  {
   "cell_type": "code",
   "execution_count": 20,
   "id": "76068882",
   "metadata": {},
   "outputs": [
    {
     "name": "stdout",
     "output_type": "stream",
     "text": [
      "成功\n"
     ]
    },
    {
     "data": {
      "text/markdown": [
       "天空之所以是藍的，主要跟光線的散射和吸收有關，這是一個複雜的現象，可以用以下幾個方面來解釋：\n",
       "\n",
       "**1. 光的散射（Rayleigh Scattering）：**\n",
       "\n",
       "*   **太陽光包含所有顏色的光：** 太陽光看起來是白色的，但實際上它包含各種顏色的光，就像彩虹一樣。\n",
       "*   **大氣層中的微粒：** 我們的大氣層中存在大量的微小粒子，例如氮氣分子和氧氣分子。\n",
       "*   **散射現象：** 當太陽光穿過大氣層時，會與這些微粒發生碰撞，導致光線發生散射。 這是稱為瑞利散射（Rayleigh scattering）。\n",
       "*   **波長較短的光更易散射：** 瑞利散射主要發生在短波長的光，也就是藍色和紫色的光。 這些光更容易被散射到四面八方。\n",
       "\n",
       "**2. 藍光的強度更高：**\n",
       "\n",
       "*   **散射的影響：** 因為藍光比其他顏色更容易散射，所以在天空中，藍光被散射到更廣泛的區域，所以我們看到的天空是藍色的。\n",
       "*   **紫光的弱化：** 由於藍光散射效果更強，所以紫色光在天空中的強度相對較低。\n",
       "\n",
       "**3. 太陽高度和角度：**\n",
       "\n",
       "*   **日出和日落：** 在日出和日落時，太陽光需要穿過更厚的大氣層。  在這個過程中，藍光已經被散射到空間中，剩下更多的波長較長的紅光和黃光，這就是我們看到的日出和日落的紅紅色景象。\n",
       "*   **空氣密度：** 空氣密度越高，散射效果越明顯，天空也更藍。\n",
       "\n",
       "**總結：**\n",
       "\n",
       "天空之所以是藍色的，主要是因為**光線被大氣中的微粒散射，藍光更容易散射，而我們的眼睛對藍光更敏感，所以我們看到天空是藍色的。**\n",
       "\n",
       "**額外說明:**\n",
       "\n",
       "*   **色散：**  實際上，天空並不是單純的藍色，而是呈現出不同的色調，主要由赤、橙、黃等顏色組成。\n",
       "*   **其他因素：**  由於大氣層的成分、溫度和濕度等因素會影響天空的顏色，例如，在早晨或傍晚時，天空會呈現粉紅色或黃色。\n",
       "\n",
       "希望這個解釋能幫助你理解為什麼天空是藍色的！"
      ],
      "text/plain": [
       "<IPython.core.display.Markdown object>"
      ]
     },
     "metadata": {},
     "output_type": "display_data"
    }
   ],
   "source": [
    "import requests\n",
    "from IPython.display import Markdown, display\n",
    "\n",
    "url = \"http://localhost:11434/api/generate\"\n",
    "response = requests.post(url,json={\n",
    "  \"model\": \"gemma3:1b\",\n",
    "  \"prompt\":\"天空為什麼是藍的?\",\n",
    "  \"stream\": False,\n",
    "})\n",
    "if response.status_code == 200:\n",
    "    print(\"成功\")\n",
    "    result = response.json()\n",
    "    display(Markdown(result['response']))\n",
    "else:\n",
    "    print(\"失敗\")\n",
    "    print(\"原因\",response.status_code)"
   ]
  },
  {
   "cell_type": "code",
   "execution_count": 21,
   "id": "1234011d",
   "metadata": {},
   "outputs": [
    {
     "name": "stdout",
     "output_type": "stream",
     "text": [
      "tw\n",
      "jp\n",
      "hk\n",
      "Taiwan\n",
      "Japan\n",
      "Hong kong\n",
      "Taiwan tw\n",
      "Japan jp\n",
      "Hong kong hk\n"
     ]
    }
   ],
   "source": [
    "codes = {\n",
    "    \"tw\":\"Taiwan\",\n",
    "    \"jp\":\"Japan\",\n",
    "    \"hk\":\"Hong kong\"\n",
    "}\n",
    "codes[\"tw\"]\n",
    "codes[\"jp\"]\n",
    "codes['hk']\n",
    "codes.keys()\n",
    "for item in codes.keys():\n",
    "    print(item)\n",
    "\n",
    "for value in codes.values():\n",
    "    print(value)\n",
    "\n",
    "for (code,name) in codes.items():\n",
    "    print(name, code)"
   ]
  }
 ],
 "metadata": {
  "kernelspec": {
   "display_name": "line_bot",
   "language": "python",
   "name": "python3"
  },
  "language_info": {
   "codemirror_mode": {
    "name": "ipython",
    "version": 3
   },
   "file_extension": ".py",
   "mimetype": "text/x-python",
   "name": "python",
   "nbconvert_exporter": "python",
   "pygments_lexer": "ipython3",
   "version": "3.11.13"
  }
 },
 "nbformat": 4,
 "nbformat_minor": 5
}
