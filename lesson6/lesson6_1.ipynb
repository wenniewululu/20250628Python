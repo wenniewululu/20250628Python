{
 "cells": [
  {
   "cell_type": "markdown",
   "id": "791a9e93",
   "metadata": {},
   "source": [
    "- ### 變數,list,dict\n",
    "- ### 判斷,迴圈\n",
    "- ### function\n",
    "- ### 內建的function,內建的module,外部的module\n",
    "- ### 什麼是實體"
   ]
  },
  {
   "cell_type": "code",
   "execution_count": 5,
   "id": "14b057a0",
   "metadata": {},
   "outputs": [
    {
     "data": {
      "text/plain": [
       "('Alice', 20, 168)"
      ]
     },
     "execution_count": 5,
     "metadata": {},
     "output_type": "execute_result"
    }
   ],
   "source": [
    "# 變數\n",
    "name = \"Alice\"\n",
    "age = 20\n",
    "height = 168\n",
    "\n",
    "name, age, height #這是tuple"
   ]
  },
  {
   "cell_type": "code",
   "execution_count": 10,
   "id": "90ab57b0",
   "metadata": {},
   "outputs": [
    {
     "name": "stdout",
     "output_type": "stream",
     "text": [
      "<class 'list'>\n",
      "水果清單: ['蘋果', '香蕉', '櫻桃']\n",
      "第一個水果: 蘋果\n",
      "反轉後的水果清單: ['櫻桃', '香蕉', '蘋果']\n"
     ]
    }
   ],
   "source": [
    "fruits = [\"蘋果\", \"香蕉\", \"櫻桃\"]\n",
    "print(type(fruits))  # 輸出: <class 'list'>\n",
    "print(\"水果清單:\", fruits)  # 輸出: 水果清單: ['蘋果', '香蕉', '櫻桃']\n",
    "print(\"第一個水果:\", fruits[0])\n",
    "fruits.reverse()  # 反轉列表\n",
    "print(\"反轉後的水果清單:\", fruits) "
   ]
  }
 ],
 "metadata": {
  "kernelspec": {
   "display_name": "line_bot",
   "language": "python",
   "name": "python3"
  },
  "language_info": {
   "codemirror_mode": {
    "name": "ipython",
    "version": 3
   },
   "file_extension": ".py",
   "mimetype": "text/x-python",
   "name": "python",
   "nbconvert_exporter": "python",
   "pygments_lexer": "ipython3",
   "version": "3.11.13"
  }
 },
 "nbformat": 4,
 "nbformat_minor": 5
}
